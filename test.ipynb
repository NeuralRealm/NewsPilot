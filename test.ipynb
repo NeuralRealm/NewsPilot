{
 "cells": [
  {
   "cell_type": "code",
   "execution_count": 282,
   "metadata": {},
   "outputs": [],
   "source": [
    "import spacy\n",
    "from spacy.lang.en.stop_words import STOP_WORDS\n",
    "from spacy import load\n",
    "import en_core_web_sm\n",
    "from string import punctuation"
   ]
  },
  {
   "cell_type": "code",
   "execution_count": 283,
   "metadata": {},
   "outputs": [],
   "source": [
    "text = \"\"\"On September 6, 1941, the German-occupied city of Oslo was attacked by the British Royal Air Force. The frightened citizens caught in the open frantically sought refuge from the falling bombs. One of the casualties of the air raid was a 30-year-old woman named Astrid, who was hit by shrapnel as she ran toward a shelter. She was seriously wounded on the left side of her head. Hospital staff feared she would not survive. After a few days, however, she regained consciousness and was found to have paralysis on the right side of her body. She was also unable to speak. Over time her paralysis receded, and she gradually recovered her ability to talk. Her speech, however, had changed, and people who heard her detected a pronounced German-like accent. This was a serious problem in Norway, where the military occupation had created intense antipathy toward anything German, and her speech caused shopkeepers to refuse to assist her. Clearly she had no desire to speak as she did. Even more mysteriously, she had never lived outside Norway, nor had she interacted with foreigners. Two years after her injury, Astrid’s strange case came to the attention of Georg Herman Monrad-Krohn. He was a professor of neurology at the University of Oslo and had a particular interest in language disorders. He was also struck by Astrid’s distinctly foreign accent and initially thought that she must be German or French.Astrid’s case is not unique: An occurrence of what is now called foreign accent syndrome (FAS) was described as early as 1907 by Pierre Marie in France, where a Parisian had acquired an “Alsatian” accent. Over the next century, physicians and language researchers reported dozens of similar cases. As the case studies piled up in the medical journals, scholars struggled to understand what was going on. (FAS has also happened to at least one well-known person today: In 2011 the British singer George Michael, who grew up in London, came out of a three-week coma and initially spoke with a West Country accent.A shared element in many FAS cases involves injury to specific areas of the left hemisphere of the brain. In most individuals, language functions are localized in this hemisphere, which controls the right side of the body (this is why most individuals write with their right hand). Brain injury is rarely selective, and in two-thirds of the FAS cases that have been studied, such individuals have some other language deficit, such as aphasia or apraxia (a motor planning problem).\"\"\""
   ]
  },
  {
   "cell_type": "code",
   "execution_count": 284,
   "metadata": {},
   "outputs": [],
   "source": [
    "nlp= en_core_web_sm.load()\n",
    "stopwords = list(STOP_WORDS)\n",
    "doc = nlp(text)"
   ]
  },
  {
   "cell_type": "code",
   "execution_count": 285,
   "metadata": {},
   "outputs": [],
   "source": [
    "tokens = [token.text for token in doc]"
   ]
  },
  {
   "cell_type": "code",
   "execution_count": 286,
   "metadata": {},
   "outputs": [],
   "source": [
    "punctuation = punctuation + \"\\n\""
   ]
  },
  {
   "cell_type": "code",
   "execution_count": 287,
   "metadata": {},
   "outputs": [],
   "source": [
    "word_frequencies = {}\n",
    "\n",
    "for word in doc:\n",
    "    if word.text.lower() not in stopwords:\n",
    "        if word.text.lower() not in punctuation:\n",
    "            if word.text not in word_frequencies.keys():\n",
    "                word_frequencies[word.text] = 1\n",
    "            else:\n",
    "                word_frequencies[word.text] += 1"
   ]
  },
  {
   "cell_type": "code",
   "execution_count": 288,
   "metadata": {},
   "outputs": [
    {
     "name": "stdout",
     "output_type": "stream",
     "text": [
      "{'September': 1, '6': 1, '1941': 1, 'German': 4, 'occupied': 1, 'city': 1, 'Oslo': 2, 'attacked': 1, 'British': 2, 'Royal': 1, 'Air': 1, 'Force': 1, 'frightened': 1, 'citizens': 1, 'caught': 1, 'open': 1, 'frantically': 1, 'sought': 1, 'refuge': 1, 'falling': 1, 'bombs': 1, 'casualties': 1, 'air': 1, 'raid': 1, '30': 1, 'year': 1, 'old': 1, 'woman': 1, 'named': 1, 'Astrid': 4, 'hit': 1, 'shrapnel': 1, 'ran': 1, 'shelter': 1, 'seriously': 1, 'wounded': 1, 'left': 2, 'head': 1, 'Hospital': 1, 'staff': 1, 'feared': 1, 'survive': 1, 'days': 1, 'regained': 1, 'consciousness': 1, 'found': 1, 'paralysis': 2, 'right': 3, 'body': 2, 'unable': 1, 'speak': 2, 'time': 1, 'receded': 1, 'gradually': 1, 'recovered': 1, 'ability': 1, 'talk': 1, 'speech': 2, 'changed': 1, 'people': 1, 'heard': 1, 'detected': 1, 'pronounced': 1, 'like': 1, 'accent': 5, 'problem': 2, 'Norway': 2, 'military': 1, 'occupation': 1, 'created': 1, 'intense': 1, 'antipathy': 1, 'caused': 1, 'shopkeepers': 1, 'refuse': 1, 'assist': 1, 'Clearly': 1, 'desire': 1, 'mysteriously': 1, 'lived': 1, 'outside': 1, 'interacted': 1, 'foreigners': 1, 'years': 1, 'injury': 3, 'strange': 1, 'case': 3, 'came': 2, 'attention': 1, 'Georg': 1, 'Herman': 1, 'Monrad': 1, 'Krohn': 1, 'professor': 1, 'neurology': 1, 'University': 1, 'particular': 1, 'interest': 1, 'language': 4, 'disorders': 1, 'struck': 1, 'distinctly': 1, 'foreign': 2, 'initially': 2, 'thought': 1, 'French': 1, 'unique': 1, 'occurrence': 1, 'called': 1, 'syndrome': 1, 'FAS': 4, 'described': 1, 'early': 1, '1907': 1, 'Pierre': 1, 'Marie': 1, 'France': 1, 'Parisian': 1, 'acquired': 1, '“': 1, 'Alsatian': 1, '”': 1, 'century': 1, 'physicians': 1, 'researchers': 1, 'reported': 1, 'dozens': 1, 'similar': 1, 'cases': 3, 'studies': 1, 'piled': 1, 'medical': 1, 'journals': 1, 'scholars': 1, 'struggled': 1, 'understand': 1, 'going': 1, 'happened': 1, 'known': 1, 'person': 1, 'today': 1, '2011': 1, 'singer': 1, 'George': 1, 'Michael': 1, 'grew': 1, 'London': 1, 'week': 1, 'coma': 1, 'spoke': 1, 'West': 1, 'Country': 1, 'shared': 1, 'element': 1, 'involves': 1, 'specific': 1, 'areas': 1, 'hemisphere': 2, 'brain': 1, 'individuals': 3, 'functions': 1, 'localized': 1, 'controls': 1, 'write': 1, 'hand': 1, 'Brain': 1, 'rarely': 1, 'selective': 1, 'thirds': 1, 'studied': 1, 'deficit': 1, 'aphasia': 1, 'apraxia': 1, 'motor': 1, 'planning': 1}\n"
     ]
    }
   ],
   "source": [
    "print(word_frequencies)"
   ]
  },
  {
   "cell_type": "code",
   "execution_count": 289,
   "metadata": {},
   "outputs": [],
   "source": [
    "max_frequency = max(word_frequencies.values())"
   ]
  },
  {
   "cell_type": "code",
   "execution_count": 290,
   "metadata": {},
   "outputs": [
    {
     "data": {
      "text/plain": [
       "5"
      ]
     },
     "execution_count": 290,
     "metadata": {},
     "output_type": "execute_result"
    }
   ],
   "source": [
    "max_frequency"
   ]
  },
  {
   "cell_type": "code",
   "execution_count": 291,
   "metadata": {},
   "outputs": [],
   "source": [
    "for word in word_frequencies.keys():\n",
    "    word_frequencies[word] = word_frequencies[word]/max_frequency"
   ]
  },
  {
   "cell_type": "code",
   "execution_count": 292,
   "metadata": {},
   "outputs": [
    {
     "name": "stdout",
     "output_type": "stream",
     "text": [
      "{'September': 0.2, '6': 0.2, '1941': 0.2, 'German': 0.8, 'occupied': 0.2, 'city': 0.2, 'Oslo': 0.4, 'attacked': 0.2, 'British': 0.4, 'Royal': 0.2, 'Air': 0.2, 'Force': 0.2, 'frightened': 0.2, 'citizens': 0.2, 'caught': 0.2, 'open': 0.2, 'frantically': 0.2, 'sought': 0.2, 'refuge': 0.2, 'falling': 0.2, 'bombs': 0.2, 'casualties': 0.2, 'air': 0.2, 'raid': 0.2, '30': 0.2, 'year': 0.2, 'old': 0.2, 'woman': 0.2, 'named': 0.2, 'Astrid': 0.8, 'hit': 0.2, 'shrapnel': 0.2, 'ran': 0.2, 'shelter': 0.2, 'seriously': 0.2, 'wounded': 0.2, 'left': 0.4, 'head': 0.2, 'Hospital': 0.2, 'staff': 0.2, 'feared': 0.2, 'survive': 0.2, 'days': 0.2, 'regained': 0.2, 'consciousness': 0.2, 'found': 0.2, 'paralysis': 0.4, 'right': 0.6, 'body': 0.4, 'unable': 0.2, 'speak': 0.4, 'time': 0.2, 'receded': 0.2, 'gradually': 0.2, 'recovered': 0.2, 'ability': 0.2, 'talk': 0.2, 'speech': 0.4, 'changed': 0.2, 'people': 0.2, 'heard': 0.2, 'detected': 0.2, 'pronounced': 0.2, 'like': 0.2, 'accent': 1.0, 'problem': 0.4, 'Norway': 0.4, 'military': 0.2, 'occupation': 0.2, 'created': 0.2, 'intense': 0.2, 'antipathy': 0.2, 'caused': 0.2, 'shopkeepers': 0.2, 'refuse': 0.2, 'assist': 0.2, 'Clearly': 0.2, 'desire': 0.2, 'mysteriously': 0.2, 'lived': 0.2, 'outside': 0.2, 'interacted': 0.2, 'foreigners': 0.2, 'years': 0.2, 'injury': 0.6, 'strange': 0.2, 'case': 0.6, 'came': 0.4, 'attention': 0.2, 'Georg': 0.2, 'Herman': 0.2, 'Monrad': 0.2, 'Krohn': 0.2, 'professor': 0.2, 'neurology': 0.2, 'University': 0.2, 'particular': 0.2, 'interest': 0.2, 'language': 0.8, 'disorders': 0.2, 'struck': 0.2, 'distinctly': 0.2, 'foreign': 0.4, 'initially': 0.4, 'thought': 0.2, 'French': 0.2, 'unique': 0.2, 'occurrence': 0.2, 'called': 0.2, 'syndrome': 0.2, 'FAS': 0.8, 'described': 0.2, 'early': 0.2, '1907': 0.2, 'Pierre': 0.2, 'Marie': 0.2, 'France': 0.2, 'Parisian': 0.2, 'acquired': 0.2, '“': 0.2, 'Alsatian': 0.2, '”': 0.2, 'century': 0.2, 'physicians': 0.2, 'researchers': 0.2, 'reported': 0.2, 'dozens': 0.2, 'similar': 0.2, 'cases': 0.6, 'studies': 0.2, 'piled': 0.2, 'medical': 0.2, 'journals': 0.2, 'scholars': 0.2, 'struggled': 0.2, 'understand': 0.2, 'going': 0.2, 'happened': 0.2, 'known': 0.2, 'person': 0.2, 'today': 0.2, '2011': 0.2, 'singer': 0.2, 'George': 0.2, 'Michael': 0.2, 'grew': 0.2, 'London': 0.2, 'week': 0.2, 'coma': 0.2, 'spoke': 0.2, 'West': 0.2, 'Country': 0.2, 'shared': 0.2, 'element': 0.2, 'involves': 0.2, 'specific': 0.2, 'areas': 0.2, 'hemisphere': 0.4, 'brain': 0.2, 'individuals': 0.6, 'functions': 0.2, 'localized': 0.2, 'controls': 0.2, 'write': 0.2, 'hand': 0.2, 'Brain': 0.2, 'rarely': 0.2, 'selective': 0.2, 'thirds': 0.2, 'studied': 0.2, 'deficit': 0.2, 'aphasia': 0.2, 'apraxia': 0.2, 'motor': 0.2, 'planning': 0.2}\n"
     ]
    }
   ],
   "source": [
    "print(word_frequencies)"
   ]
  },
  {
   "cell_type": "code",
   "execution_count": 293,
   "metadata": {},
   "outputs": [],
   "source": [
    "sentence_tokens = [sent for sent in doc.sents]"
   ]
  },
  {
   "cell_type": "code",
   "execution_count": 294,
   "metadata": {},
   "outputs": [],
   "source": [
    "sentence_score = {}\n",
    "\n",
    "for sent in sentence_tokens:\n",
    "    for word in sent:\n",
    "        if word.text.lower() in word_frequencies.keys():\n",
    "            if sent not in sentence_score.keys():\n",
    "                sentence_score[sent] = word_frequencies[word.text.lower()] \n",
    "            else:\n",
    "                sentence_score[sent] += word_frequencies[word.text.lower()]"
   ]
  },
  {
   "cell_type": "code",
   "execution_count": 295,
   "metadata": {},
   "outputs": [
    {
     "data": {
      "text/plain": [
       "{On September 6, 1941, the German-occupied city of Oslo was attacked by the British Royal Air Force.: 1.2,\n",
       " The frightened citizens caught in the open frantically sought refuge from the falling bombs.: 1.7999999999999998,\n",
       " One of the casualties of the air raid was a 30-year-old woman named Astrid, who was hit by shrapnel as she ran toward a shelter.: 2.4,\n",
       " She was seriously wounded on the left side of her head.: 1.0,\n",
       " Hospital staff feared she would not survive.: 0.6000000000000001,\n",
       " After a few days, however, she regained consciousness and was found to have paralysis on the right side of her body.: 2.2,\n",
       " She was also unable to speak.: 0.6000000000000001,\n",
       " Over time her paralysis receded, and she gradually recovered her ability to talk.: 1.5999999999999999,\n",
       " Her speech, however, had changed, and people who heard her detected a pronounced German-like accent.: 2.5999999999999996,\n",
       " This was a serious problem in Norway, where the military occupation had created intense antipathy toward anything German, and her speech caused shopkeepers to refuse to assist her.: 2.6,\n",
       " Clearly she had no desire to speak as she did.: 0.6000000000000001,\n",
       " Even more mysteriously, she had never lived outside Norway, nor had she interacted with foreigners.: 1.0,\n",
       " Two years after her injury, Astrid’s strange case came to the attention of Georg Herman Monrad-Krohn.: 2.2,\n",
       " He was a professor of neurology at the University of Oslo and had a particular interest in language disorders.: 1.8,\n",
       " He was also struck by Astrid’s distinctly foreign accent and initially thought that she must be German or French.: 2.4000000000000004,\n",
       " Astrid’s case is not unique: An occurrence of what is now called foreign accent syndrome (FAS) was described as early as 1907 by Pierre Marie in France, where a Parisian had acquired an “Alsatian” accent.: 5.000000000000001,\n",
       " Over the next century, physicians and language researchers reported dozens of similar cases.: 2.6,\n",
       " As the case studies piled up in the medical journals, scholars struggled to understand what was going on.: 2.1999999999999997,\n",
       " (FAS has also happened to at least one well-known person today:: 0.8,\n",
       " In 2011 the British singer George Michael, who grew up in London, came out of a three-week coma and initially spoke with a West Country accent.: 3.0,\n",
       " A shared element in many FAS cases involves injury to specific areas of the left hemisphere of the brain.: 3.1999999999999997,\n",
       " In most individuals, language functions are localized in this hemisphere, which controls the right side of the body (this is why most individuals write with their right hand).: 5.0,\n",
       " Brain injury is rarely selective, and in two-thirds of the FAS cases that have been studied, such individuals have some other language deficit, such as aphasia or apraxia (a motor planning problem).: 5.000000000000002}"
      ]
     },
     "execution_count": 295,
     "metadata": {},
     "output_type": "execute_result"
    }
   ],
   "source": [
    "sentence_score"
   ]
  },
  {
   "cell_type": "code",
   "execution_count": 296,
   "metadata": {},
   "outputs": [],
   "source": [
    "from heapq import nlargest\n",
    "select_length = int(len(sentence_tokens)*0.3)"
   ]
  },
  {
   "cell_type": "code",
   "execution_count": 297,
   "metadata": {},
   "outputs": [],
   "source": [
    "summary  = nlargest(select_length, sentence_score, key=sentence_score.get)"
   ]
  },
  {
   "cell_type": "code",
   "execution_count": 298,
   "metadata": {},
   "outputs": [],
   "source": [
    "summary = [word.text  for word in summary]\n",
    "summary = \" \".join(summary)"
   ]
  },
  {
   "cell_type": "code",
   "execution_count": 299,
   "metadata": {},
   "outputs": [
    {
     "data": {
      "text/plain": [
       "'Brain injury is rarely selective, and in two-thirds of the FAS cases that have been studied, such individuals have some other language deficit, such as aphasia or apraxia (a motor planning problem). Astrid’s case is not unique: An occurrence of what is now called foreign accent syndrome (FAS) was described as early as 1907 by Pierre Marie in France, where a Parisian had acquired an “Alsatian” accent. In most individuals, language functions are localized in this hemisphere, which controls the right side of the body (this is why most individuals write with their right hand). A shared element in many FAS cases involves injury to specific areas of the left hemisphere of the brain. In 2011 the British singer George Michael, who grew up in London, came out of a three-week coma and initially spoke with a West Country accent. This was a serious problem in Norway, where the military occupation had created intense antipathy toward anything German, and her speech caused shopkeepers to refuse to assist her.'"
      ]
     },
     "execution_count": 299,
     "metadata": {},
     "output_type": "execute_result"
    }
   ],
   "source": [
    "summary"
   ]
  }
 ],
 "metadata": {
  "interpreter": {
   "hash": "8102f9dc2d6743575104a793ec238e69e3843c056f9c89f2d165f6520ab35bb2"
  },
  "kernelspec": {
   "display_name": "Python 3.9.7 ('text_summarizations')",
   "language": "python",
   "name": "python3"
  },
  "language_info": {
   "codemirror_mode": {
    "name": "ipython",
    "version": 3
   },
   "file_extension": ".py",
   "mimetype": "text/x-python",
   "name": "python",
   "nbconvert_exporter": "python",
   "pygments_lexer": "ipython3",
   "version": "3.9.10"
  },
  "orig_nbformat": 4
 },
 "nbformat": 4,
 "nbformat_minor": 2
}
